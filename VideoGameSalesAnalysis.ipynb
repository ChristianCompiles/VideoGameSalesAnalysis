{
 "cells": [
  {
   "cell_type": "code",
   "execution_count": 45,
   "id": "0506790a",
   "metadata": {},
   "outputs": [
    {
     "data": {
      "text/plain": [
       "0.999984013974007"
      ]
     },
     "execution_count": 45,
     "metadata": {},
     "output_type": "execute_result"
    }
   ],
   "source": [
    "import pandas as pd\n",
    "from sklearn.linear_model import LinearRegression\n",
    "from sklearn.model_selection import train_test_split\n",
    "from sklearn.preprocessing import StandardScaler\n",
    "from sklearn.pipeline import make_pipeline\n",
    "\n",
    "df = pd.read_csv('VideoGameSales.csv')\n",
    "df = df[~df.isin(['np.nat']).any(axis=1)]\n",
    "X = df.drop(columns = ['Rank','Name', 'Platform', 'Genre', 'Publisher', 'Global_Sales'])\n",
    "y = df['Global_Sales']\n",
    "X_train, X_test, y_train, y_test = train_test_split(X,y,test_size=0.25) #allocating 25% of data for testing\n",
    "\n",
    "model = make_pipeline(StandardScaler(with_mean=False), LinearRegression())\n",
    "model.fit(X_train, y_train)\n",
    "model.score(X_train, y_train)"
   ]
  },
  {
   "cell_type": "code",
   "execution_count": null,
   "id": "37f07752",
   "metadata": {},
   "outputs": [],
   "source": []
  }
 ],
 "metadata": {
  "kernelspec": {
   "display_name": "Python 3 (ipykernel)",
   "language": "python",
   "name": "python3"
  },
  "language_info": {
   "codemirror_mode": {
    "name": "ipython",
    "version": 3
   },
   "file_extension": ".py",
   "mimetype": "text/x-python",
   "name": "python",
   "nbconvert_exporter": "python",
   "pygments_lexer": "ipython3",
   "version": "3.9.12"
  }
 },
 "nbformat": 4,
 "nbformat_minor": 5
}
