# using linear regression, create a model to predict North America video game sales given Europe and Japan Sales
# import libraries
import pandas as pd
from sklearn.linear_model import LinearRegression
from sklearn.model_selection import train_test_split
from sklearn.preprocessing import StandardScaler
from sklearn.pipeline import make_pipeline

# read in csv file
df = pd.read_csv('VideoGameSales.csv')
df.head()

# input should only be Europe and Japan sales
#X = df.drop(columns = ['Rank','Name', 'Year', 'Platform', 'Genre', 'Publisher', 'NA_Sales', 'Other_Sales', 'Global_Sales'])
X = df[['EU_Sales', 'JP_Sales']]
X.head()

# target should only be NA sales
y = df['NA_Sales']
y.head()

# Create and run model
X_train, X_test, y_train, y_test = train_test_split(X,y,test_size=0.25) #allocating 25% of data for testing

model = make_pipeline(StandardScaler(with_mean=False), LinearRegression())
model.fit(X_train, y_train)
model.score(X_train, y_train)
